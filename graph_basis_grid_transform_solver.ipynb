{
 "cells": [
  {
   "cell_type": "code",
   "execution_count": null,
   "metadata": {},
   "outputs": [],
   "source": [
    "import torch\n",
    "import torch.nn as nn\n",
    "import torch.optim as optim\n",
    "import networkx as nx\n",
    "import numpy as np\n",
    "from torch_geometric.nn import GCNConv\n",
    "\n",
    "# Create a grid graph\n",
    "def create_grid_graph(n):\n",
    "    G = nx.grid_2d_graph(n, n)\n",
    "    return nx.convert_node_labels_to_integers(G)\n",
    "\n",
    "# Define a simple GNN model\n",
    "class GNN(nn.Module):\n",
    "    def __init__(self, in_channels, out_channels):\n",
    "        super(GNN, self).__init__()\n",
    "        self.conv1 = GCNConv(in_channels, 16)\n",
    "        self.conv2 = GCNConv(16, out_channels)\n",
    "\n",
    "    def forward(self, x, edge_index):\n",
    "        x = self.conv1(x, edge_index)\n",
    "        x = torch.relu(x)\n",
    "        x = self.conv2(x, edge_index)\n",
    "        return x\n",
    "\n",
    "# Create a grid graph\n",
    "n = 5\n",
    "G = create_grid_graph(n)\n",
    "edge_index = torch.tensor(list(G.edges)).t().contiguous()\n",
    "\n",
    "# Example grid values (graph signals)\n",
    "x = torch.randn((n * n, 1))  # Signal on the source grid\n",
    "y = torch.randn((n * n, 1))  # Signal on the target grid\n",
    "\n",
    "# Initialize the model, loss, and optimizer\n",
    "model = GNN(in_channels=1, out_channels=1)\n",
    "criterion = nn.MSELoss()\n",
    "optimizer = optim.Adam(model.parameters(), lr=0.01)\n",
    "\n",
    "# Training loop\n",
    "for epoch in range(100):\n",
    "    model.train()\n",
    "    optimizer.zero_grad()\n",
    "    out = model(x, edge_index)\n",
    "    loss = criterion(out, y)\n",
    "    loss.backward()\n",
    "    optimizer.step()\n",
    "    print(f'Epoch {epoch+1}, Loss: {loss.item()}')\n"
   ]
  }
 ],
 "metadata": {
  "kernelspec": {
   "display_name": "saruman",
   "language": "python",
   "name": "python3"
  },
  "language_info": {
   "codemirror_mode": {
    "name": "ipython",
    "version": 3
   },
   "file_extension": ".py",
   "mimetype": "text/x-python",
   "name": "python",
   "nbconvert_exporter": "python",
   "pygments_lexer": "ipython3",
   "version": "3.11.4"
  }
 },
 "nbformat": 4,
 "nbformat_minor": 2
}
